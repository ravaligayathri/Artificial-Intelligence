{
 "cells": [
  {
   "cell_type": "code",
   "execution_count": 1,
   "metadata": {},
   "outputs": [
    {
     "name": "stdout",
     "output_type": "stream",
     "text": [
      "My friend brought a subaru SVX recently.  I had drove it for couples times and I\n",
      "think its a great car, esp on snow.  However when she took it to a local Subaru\n",
      "dealer for a oil change, the bill came out to be about 80 dollars.  The dealer\n",
      "85.68438677270824\n"
     ]
    },
    {
     "data": {
      "text/plain": [
       "86.79245283018868"
      ]
     },
     "execution_count": 1,
     "metadata": {},
     "output_type": "execute_result"
    }
   ],
   "source": [
    "from sklearn.datasets import fetch_20newsgroups\n",
    "from sklearn.model_selection import train_test_split\n",
    "from sklearn.feature_extraction.text import CountVectorizer\n",
    "from sklearn.feature_extraction.text import TfidfTransformer\n",
    "from sklearn.naive_bayes import MultinomialNB\n",
    "from sklearn.pipeline import Pipeline\n",
    "import numpy as np\n",
    "from sklearn.model_selection import GridSearchCV\n",
    "\n",
    "categories = ['rec.autos', 'rec.motorcycles','rec.sport.baseball',\n",
    "'rec.sport.hockey',]\n",
    "\n",
    "Data=fetch_20newsgroups(subset='all',remove=('headers', 'footers', 'quotes'), categories=categories,shuffle=True, random_state=42)\n",
    "\n",
    "train_data=fetch_20newsgroups(subset='train',remove=('headers', 'footers', 'quotes'), categories=categories,shuffle=True, random_state=42)\n",
    "\n",
    "train_data.target_names\n",
    "\n",
    "print(\"\\n\".join(train_data.data[0].split(\"\\n\")[:3]))\n",
    "\n",
    "count_vect = CountVectorizer()\n",
    "\n",
    "X_train_counts = count_vect.fit_transform(train_data.data)\n",
    "\n",
    "\n",
    "X_train_counts.shape\n",
    "\n",
    "X_train_counts\n",
    "\n",
    "tfidf_transformer = TfidfTransformer()\n",
    "\n",
    "X_train_tfidf = tfidf_transformer.fit_transform(X_train_counts)\n",
    "\n",
    "X_train_tfidf.shape\n",
    "\n",
    "clf = MultinomialNB().fit(X_train_tfidf, train_data.target)\n",
    "\n",
    "text_clf = Pipeline([('vect', CountVectorizer()),('tfidf', TfidfTransformer()),('clf', MultinomialNB())])\n",
    "\n",
    "text_clf = text_clf.fit(train_data.data, train_data.target)\n",
    "\n",
    "test_data = fetch_20newsgroups(subset='test',remove=('headers', 'footers', 'quotes'), categories=categories,shuffle=True, random_state=42)\n",
    "\n",
    "predicted = text_clf.predict(test_data.data)\n",
    "\n",
    "np.mean(predicted == test_data.target)\n",
    "\n",
    "parameters = {'vect__ngram_range': [(1, 1), (1, 2)],\n",
    "              'tfidf__use_idf': (True, False),\n",
    "              'clf__alpha': (1e-2, 1e-3),\n",
    "}\n",
    "\n",
    "\n",
    "gs_clf = GridSearchCV(text_clf, parameters, n_jobs=-1)\n",
    "gs_clf = gs_clf.fit(train_data.data, train_data.target)\n",
    "\n",
    "print(gs_clf.best_score_*100)\n",
    "gs_clf.best_params_\n",
    "\n",
    "text_clf = Pipeline([('vect', CountVectorizer(stop_words='english')),('tfidf', TfidfTransformer()),('clf', MultinomialNB()) ])\n",
    "\n",
    "text_clf = text_clf.fit(train_data.data, train_data.target)\n",
    "np.mean(predicted == test_data.target)*100\n",
    "\n",
    "\n",
    "#reference: https://medium.com/@rnbrown/classifying-documents-with-sklearns-count-hash-tdif-vectorizers-9f8200e5a91e\n"
   ]
  },
  {
   "cell_type": "code",
   "execution_count": null,
   "metadata": {},
   "outputs": [],
   "source": []
  }
 ],
 "metadata": {
  "kernelspec": {
   "display_name": "Python 3",
   "language": "python",
   "name": "python3"
  },
  "language_info": {
   "codemirror_mode": {
    "name": "ipython",
    "version": 3
   },
   "file_extension": ".py",
   "mimetype": "text/x-python",
   "name": "python",
   "nbconvert_exporter": "python",
   "pygments_lexer": "ipython3",
   "version": "3.6.5"
  }
 },
 "nbformat": 4,
 "nbformat_minor": 2
}
